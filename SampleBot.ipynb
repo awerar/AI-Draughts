{
 "cells": [
  {
   "cell_type": "code",
   "execution_count": 5,
   "id": "stopped-split",
   "metadata": {},
   "outputs": [],
   "source": [
    "import math\n",
    "\n",
    "from PIL import Image, ImageColor\n",
    "import IPython.display\n",
    "\n",
    "from Position import Position\n",
    "from Piece import Piece\n",
    "from Board import Board\n",
    "from Game import Game\n",
    "from Bot import Bot"
   ]
  },
  {
   "cell_type": "code",
   "execution_count": 3,
   "id": "5e47e76b",
   "metadata": {
    "scrolled": true
   },
   "outputs": [
    {
     "data": {
      "image/png": "[encoded data removed]",
      "text/plain": [
       "<PIL.Image.Image image mode=RGB size=400x400 at 0x21BCE76A400>"
      ]
     },
     "metadata": {},
     "output_type": "display_data"
    },
    {
     "name": "stdout",
     "output_type": "stream",
     "text": [
      "1\n",
      "2\n",
      "3\n"
     ]
    },
    {
     "ename": "KeyboardInterrupt",
     "evalue": "",
     "output_type": "error",
     "traceback": [
      "\u001b[1;31m---------------------------------------------------------------------------\u001b[0m",
      "\u001b[1;31mKeyboardInterrupt\u001b[0m                         Traceback (most recent call last)",
      "\u001b[1;32mC:\\Users\\ALEXAN~1.WAH\\AppData\\Local\\Temp/ipykernel_19224/3745500608.py\u001b[0m in \u001b[0;36m<module>\u001b[1;34m\u001b[0m\n\u001b[0;32m      2\u001b[0m \u001b[0mb2\u001b[0m \u001b[1;33m=\u001b[0m \u001b[0mBot\u001b[0m\u001b[1;33m(\u001b[0m\u001b[1;33m)\u001b[0m\u001b[1;33m\u001b[0m\u001b[1;33m\u001b[0m\u001b[0m\n\u001b[0;32m      3\u001b[0m \u001b[0mgame\u001b[0m \u001b[1;33m=\u001b[0m \u001b[0mGame\u001b[0m\u001b[1;33m(\u001b[0m\u001b[0mb1\u001b[0m\u001b[1;33m,\u001b[0m \u001b[0mb2\u001b[0m\u001b[1;33m)\u001b[0m\u001b[1;33m\u001b[0m\u001b[1;33m\u001b[0m\u001b[0m\n\u001b[1;32m----> 4\u001b[1;33m \u001b[0mgame\u001b[0m\u001b[1;33m.\u001b[0m\u001b[0mplay_bots\u001b[0m\u001b[1;33m(\u001b[0m\u001b[1;32mTrue\u001b[0m\u001b[1;33m)\u001b[0m\u001b[1;33m\u001b[0m\u001b[1;33m\u001b[0m\u001b[0m\n\u001b[0m",
      "\u001b[1;32m~\\Documents\\GitHub\\AI-Draughts\\Game.py\u001b[0m in \u001b[0;36mplay_bots\u001b[1;34m(self, draw_board)\u001b[0m\n\u001b[0;32m    109\u001b[0m \u001b[1;33m\u001b[0m\u001b[0m\n\u001b[0;32m    110\u001b[0m         \u001b[1;32mwhile\u001b[0m \u001b[0mself\u001b[0m\u001b[1;33m.\u001b[0m\u001b[0mcontinue_game\u001b[0m\u001b[1;33m:\u001b[0m\u001b[1;33m\u001b[0m\u001b[1;33m\u001b[0m\u001b[0m\n\u001b[1;32m--> 111\u001b[1;33m             \u001b[0mself\u001b[0m\u001b[1;33m.\u001b[0m\u001b[0mbot_move\u001b[0m\u001b[1;33m(\u001b[0m\u001b[0mself\u001b[0m\u001b[1;33m.\u001b[0m\u001b[0mwhite\u001b[0m\u001b[1;33m,\u001b[0m \u001b[1;32mTrue\u001b[0m\u001b[1;33m,\u001b[0m \u001b[0mdraw_board\u001b[0m\u001b[1;33m)\u001b[0m\u001b[1;33m\u001b[0m\u001b[1;33m\u001b[0m\u001b[0m\n\u001b[0m\u001b[0;32m    112\u001b[0m             \u001b[1;32mif\u001b[0m \u001b[1;32mnot\u001b[0m \u001b[0mself\u001b[0m\u001b[1;33m.\u001b[0m\u001b[0mcontinue_game\u001b[0m\u001b[1;33m:\u001b[0m\u001b[1;33m\u001b[0m\u001b[1;33m\u001b[0m\u001b[0m\n\u001b[0;32m    113\u001b[0m                 \u001b[1;32mbreak\u001b[0m\u001b[1;33m\u001b[0m\u001b[1;33m\u001b[0m\u001b[0m\n",
      "\u001b[1;32m~\\Documents\\GitHub\\AI-Draughts\\Game.py\u001b[0m in \u001b[0;36mbot_move\u001b[1;34m(self, bot, is_white, draw_board)\u001b[0m\n\u001b[0;32m     45\u001b[0m     \u001b[1;31m# Ask a playing bot what move to make and make it\u001b[0m\u001b[1;33m\u001b[0m\u001b[1;33m\u001b[0m\u001b[0m\n\u001b[0;32m     46\u001b[0m     \u001b[1;32mdef\u001b[0m \u001b[0mbot_move\u001b[0m\u001b[1;33m(\u001b[0m\u001b[0mself\u001b[0m\u001b[1;33m,\u001b[0m \u001b[0mbot\u001b[0m\u001b[1;33m,\u001b[0m \u001b[0mis_white\u001b[0m\u001b[1;33m,\u001b[0m \u001b[0mdraw_board\u001b[0m\u001b[1;33m=\u001b[0m\u001b[1;32mTrue\u001b[0m\u001b[1;33m)\u001b[0m\u001b[1;33m:\u001b[0m\u001b[1;33m\u001b[0m\u001b[1;33m\u001b[0m\u001b[0m\n\u001b[1;32m---> 47\u001b[1;33m         \u001b[0mmove\u001b[0m \u001b[1;33m=\u001b[0m \u001b[0mbot\u001b[0m\u001b[1;33m.\u001b[0m\u001b[0mmake_move\u001b[0m\u001b[1;33m(\u001b[0m\u001b[0mself\u001b[0m\u001b[1;33m.\u001b[0m\u001b[0mengine\u001b[0m\u001b[1;33m.\u001b[0m\u001b[0mboard\u001b[0m\u001b[1;33m)\u001b[0m\u001b[1;33m\u001b[0m\u001b[1;33m\u001b[0m\u001b[0m\n\u001b[0m\u001b[0;32m     48\u001b[0m         \u001b[0mself\u001b[0m\u001b[1;33m.\u001b[0m\u001b[0mresult\u001b[0m\u001b[1;33m[\u001b[0m\u001b[1;34m'moves'\u001b[0m\u001b[1;33m]\u001b[0m \u001b[1;33m+=\u001b[0m \u001b[1;33m[\u001b[0m\u001b[0mGame\u001b[0m\u001b[1;33m.\u001b[0m\u001b[0mmove_to_dictionary\u001b[0m\u001b[1;33m(\u001b[0m\u001b[0mmove\u001b[0m\u001b[1;33m)\u001b[0m\u001b[1;33m]\u001b[0m\u001b[1;33m\u001b[0m\u001b[1;33m\u001b[0m\u001b[0m\n\u001b[0;32m     49\u001b[0m \u001b[1;33m\u001b[0m\u001b[0m\n",
      "\u001b[1;32m~\\Documents\\GitHub\\AI-Draughts\\Bot.py\u001b[0m in \u001b[0;36mmake_move\u001b[1;34m(self, board)\u001b[0m\n\u001b[0;32m     14\u001b[0m \u001b[1;33m\u001b[0m\u001b[0m\n\u001b[0;32m     15\u001b[0m         \u001b[1;32mfor\u001b[0m \u001b[0mdepth\u001b[0m \u001b[1;32min\u001b[0m \u001b[0mrange\u001b[0m\u001b[1;33m(\u001b[0m\u001b[1;36m1\u001b[0m\u001b[1;33m,\u001b[0m \u001b[1;36m100\u001b[0m\u001b[1;33m)\u001b[0m\u001b[1;33m:\u001b[0m\u001b[1;33m\u001b[0m\u001b[1;33m\u001b[0m\u001b[0m\n\u001b[1;32m---> 16\u001b[1;33m             \u001b[0mbest_move\u001b[0m \u001b[1;33m=\u001b[0m \u001b[0mself\u001b[0m\u001b[1;33m.\u001b[0m\u001b[0mget_best_move\u001b[0m\u001b[1;33m(\u001b[0m\u001b[0mboard\u001b[0m\u001b[1;33m,\u001b[0m \u001b[0mdepth\u001b[0m\u001b[1;33m)\u001b[0m\u001b[1;33m\u001b[0m\u001b[1;33m\u001b[0m\u001b[0m\n\u001b[0m\u001b[0;32m     17\u001b[0m \u001b[1;33m\u001b[0m\u001b[0m\n\u001b[0;32m     18\u001b[0m             \u001b[0mprint\u001b[0m\u001b[1;33m(\u001b[0m\u001b[0mdepth\u001b[0m\u001b[1;33m)\u001b[0m\u001b[1;33m\u001b[0m\u001b[1;33m\u001b[0m\u001b[0m\n",
      "\u001b[1;32m~\\Documents\\GitHub\\AI-Draughts\\Bot.py\u001b[0m in \u001b[0;36mget_best_move\u001b[1;34m(self, board, depth)\u001b[0m\n\u001b[0;32m     28\u001b[0m         \u001b[1;32mfor\u001b[0m \u001b[0mmove\u001b[0m \u001b[1;32min\u001b[0m \u001b[0mself\u001b[0m\u001b[1;33m.\u001b[0m\u001b[0mget_possible_moves\u001b[0m\u001b[1;33m(\u001b[0m\u001b[0mboard\u001b[0m\u001b[1;33m)\u001b[0m\u001b[1;33m:\u001b[0m\u001b[1;33m\u001b[0m\u001b[1;33m\u001b[0m\u001b[0m\n\u001b[0;32m     29\u001b[0m             \u001b[0mnew_board\u001b[0m \u001b[1;33m=\u001b[0m \u001b[0mboard\u001b[0m\u001b[1;33m.\u001b[0m\u001b[0mmake_move\u001b[0m\u001b[1;33m(\u001b[0m\u001b[0mmove\u001b[0m\u001b[1;33m)\u001b[0m\u001b[1;33m\u001b[0m\u001b[1;33m\u001b[0m\u001b[0m\n\u001b[1;32m---> 30\u001b[1;33m             \u001b[0mnew_score\u001b[0m \u001b[1;33m=\u001b[0m \u001b[1;33m-\u001b[0m\u001b[0mself\u001b[0m\u001b[1;33m.\u001b[0m\u001b[0mevaluate_board\u001b[0m\u001b[1;33m(\u001b[0m\u001b[0mnew_board\u001b[0m\u001b[1;33m,\u001b[0m \u001b[0mdepth\u001b[0m \u001b[1;33m-\u001b[0m \u001b[1;36m1\u001b[0m\u001b[1;33m,\u001b[0m \u001b[1;33m-\u001b[0m\u001b[0minf\u001b[0m\u001b[1;33m,\u001b[0m \u001b[0minf\u001b[0m\u001b[1;33m,\u001b[0m \u001b[1;32mFalse\u001b[0m\u001b[1;33m)\u001b[0m\u001b[1;33m\u001b[0m\u001b[1;33m\u001b[0m\u001b[0m\n\u001b[0m\u001b[0;32m     31\u001b[0m \u001b[1;33m\u001b[0m\u001b[0m\n\u001b[0;32m     32\u001b[0m             \u001b[1;32mif\u001b[0m \u001b[0mnew_score\u001b[0m \u001b[1;33m>\u001b[0m \u001b[0mbest_score\u001b[0m \u001b[1;32mor\u001b[0m \u001b[0mbest_score\u001b[0m \u001b[1;33m==\u001b[0m \u001b[1;33m-\u001b[0m\u001b[0minf\u001b[0m\u001b[1;33m:\u001b[0m\u001b[1;33m\u001b[0m\u001b[1;33m\u001b[0m\u001b[0m\n",
      "\u001b[1;32m~\\Documents\\GitHub\\AI-Draughts\\Bot.py\u001b[0m in \u001b[0;36mevaluate_board\u001b[1;34m(self, board, rec_left, best, worst, my_turn)\u001b[0m\n\u001b[0;32m     46\u001b[0m         \u001b[0mbest_score\u001b[0m \u001b[1;33m=\u001b[0m \u001b[0minf\u001b[0m \u001b[1;32mif\u001b[0m \u001b[1;32mnot\u001b[0m \u001b[0mmy_turn\u001b[0m \u001b[1;32melse\u001b[0m \u001b[1;33m-\u001b[0m\u001b[0minf\u001b[0m\u001b[1;33m\u001b[0m\u001b[1;33m\u001b[0m\u001b[0m\n\u001b[0;32m     47\u001b[0m         \u001b[1;32mfor\u001b[0m \u001b[0mnew_board\u001b[0m \u001b[1;32min\u001b[0m \u001b[0mnew_boards\u001b[0m\u001b[1;33m:\u001b[0m\u001b[1;33m\u001b[0m\u001b[1;33m\u001b[0m\u001b[0m\n\u001b[1;32m---> 48\u001b[1;33m             \u001b[0mnew_score\u001b[0m \u001b[1;33m=\u001b[0m \u001b[1;33m-\u001b[0m\u001b[0mself\u001b[0m\u001b[1;33m.\u001b[0m\u001b[0mevaluate_board\u001b[0m\u001b[1;33m(\u001b[0m\u001b[0mnew_board\u001b[0m\u001b[1;33m,\u001b[0m \u001b[0mrec_left\u001b[0m \u001b[1;33m-\u001b[0m \u001b[1;36m1\u001b[0m\u001b[1;33m,\u001b[0m \u001b[0mbest\u001b[0m\u001b[1;33m,\u001b[0m \u001b[0mworst\u001b[0m\u001b[1;33m,\u001b[0m \u001b[1;32mnot\u001b[0m \u001b[0mmy_turn\u001b[0m\u001b[1;33m)\u001b[0m\u001b[1;33m\u001b[0m\u001b[1;33m\u001b[0m\u001b[0m\n\u001b[0m\u001b[0;32m     49\u001b[0m \u001b[1;33m\u001b[0m\u001b[0m\n\u001b[0;32m     50\u001b[0m             \u001b[1;32mif\u001b[0m \u001b[0mmy_turn\u001b[0m\u001b[1;33m:\u001b[0m\u001b[1;33m\u001b[0m\u001b[1;33m\u001b[0m\u001b[0m\n",
      "\u001b[1;32m~\\Documents\\GitHub\\AI-Draughts\\Bot.py\u001b[0m in \u001b[0;36mevaluate_board\u001b[1;34m(self, board, rec_left, best, worst, my_turn)\u001b[0m\n\u001b[0;32m     46\u001b[0m         \u001b[0mbest_score\u001b[0m \u001b[1;33m=\u001b[0m \u001b[0minf\u001b[0m \u001b[1;32mif\u001b[0m \u001b[1;32mnot\u001b[0m \u001b[0mmy_turn\u001b[0m \u001b[1;32melse\u001b[0m \u001b[1;33m-\u001b[0m\u001b[0minf\u001b[0m\u001b[1;33m\u001b[0m\u001b[1;33m\u001b[0m\u001b[0m\n\u001b[0;32m     47\u001b[0m         \u001b[1;32mfor\u001b[0m \u001b[0mnew_board\u001b[0m \u001b[1;32min\u001b[0m \u001b[0mnew_boards\u001b[0m\u001b[1;33m:\u001b[0m\u001b[1;33m\u001b[0m\u001b[1;33m\u001b[0m\u001b[0m\n\u001b[1;32m---> 48\u001b[1;33m             \u001b[0mnew_score\u001b[0m \u001b[1;33m=\u001b[0m \u001b[1;33m-\u001b[0m\u001b[0mself\u001b[0m\u001b[1;33m.\u001b[0m\u001b[0mevaluate_board\u001b[0m\u001b[1;33m(\u001b[0m\u001b[0mnew_board\u001b[0m\u001b[1;33m,\u001b[0m \u001b[0mrec_left\u001b[0m \u001b[1;33m-\u001b[0m \u001b[1;36m1\u001b[0m\u001b[1;33m,\u001b[0m \u001b[0mbest\u001b[0m\u001b[1;33m,\u001b[0m \u001b[0mworst\u001b[0m\u001b[1;33m,\u001b[0m \u001b[1;32mnot\u001b[0m \u001b[0mmy_turn\u001b[0m\u001b[1;33m)\u001b[0m\u001b[1;33m\u001b[0m\u001b[1;33m\u001b[0m\u001b[0m\n\u001b[0m\u001b[0;32m     49\u001b[0m \u001b[1;33m\u001b[0m\u001b[0m\n\u001b[0;32m     50\u001b[0m             \u001b[1;32mif\u001b[0m \u001b[0mmy_turn\u001b[0m\u001b[1;33m:\u001b[0m\u001b[1;33m\u001b[0m\u001b[1;33m\u001b[0m\u001b[0m\n",
      "\u001b[1;32m~\\Documents\\GitHub\\AI-Draughts\\Bot.py\u001b[0m in \u001b[0;36mevaluate_board\u001b[1;34m(self, board, rec_left, best, worst, my_turn)\u001b[0m\n\u001b[0;32m     42\u001b[0m         \u001b[0mmoves\u001b[0m \u001b[1;33m=\u001b[0m \u001b[0mself\u001b[0m\u001b[1;33m.\u001b[0m\u001b[0mget_possible_moves\u001b[0m\u001b[1;33m(\u001b[0m\u001b[0mboard\u001b[0m\u001b[1;33m)\u001b[0m\u001b[1;33m\u001b[0m\u001b[1;33m\u001b[0m\u001b[0m\n\u001b[0;32m     43\u001b[0m         \u001b[0mnew_boards\u001b[0m \u001b[1;33m=\u001b[0m \u001b[1;33m[\u001b[0m\u001b[0mboard\u001b[0m\u001b[1;33m.\u001b[0m\u001b[0mmake_move\u001b[0m\u001b[1;33m(\u001b[0m\u001b[0mmove\u001b[0m\u001b[1;33m)\u001b[0m \u001b[1;32mfor\u001b[0m \u001b[0mmove\u001b[0m \u001b[1;32min\u001b[0m \u001b[0mmoves\u001b[0m\u001b[1;33m]\u001b[0m\u001b[1;33m\u001b[0m\u001b[1;33m\u001b[0m\u001b[0m\n\u001b[1;32m---> 44\u001b[1;33m         \u001b[0mnew_boards\u001b[0m \u001b[1;33m=\u001b[0m \u001b[0msorted\u001b[0m\u001b[1;33m(\u001b[0m\u001b[0mnew_boards\u001b[0m\u001b[1;33m,\u001b[0m \u001b[0mkey\u001b[0m\u001b[1;33m=\u001b[0m\u001b[1;32mlambda\u001b[0m \u001b[0mb\u001b[0m\u001b[1;33m:\u001b[0m \u001b[1;33m-\u001b[0m\u001b[0mself\u001b[0m\u001b[1;33m.\u001b[0m\u001b[0mget_board_score\u001b[0m\u001b[1;33m(\u001b[0m\u001b[0mb\u001b[0m\u001b[1;33m)\u001b[0m\u001b[1;33m)\u001b[0m\u001b[1;33m\u001b[0m\u001b[1;33m\u001b[0m\u001b[0m\n\u001b[0m\u001b[0;32m     45\u001b[0m \u001b[1;33m\u001b[0m\u001b[0m\n\u001b[0;32m     46\u001b[0m         \u001b[0mbest_score\u001b[0m \u001b[1;33m=\u001b[0m \u001b[0minf\u001b[0m \u001b[1;32mif\u001b[0m \u001b[1;32mnot\u001b[0m \u001b[0mmy_turn\u001b[0m \u001b[1;32melse\u001b[0m \u001b[1;33m-\u001b[0m\u001b[0minf\u001b[0m\u001b[1;33m\u001b[0m\u001b[1;33m\u001b[0m\u001b[0m\n",
      "\u001b[1;32m~\\Documents\\GitHub\\AI-Draughts\\Bot.py\u001b[0m in \u001b[0;36m<lambda>\u001b[1;34m(b)\u001b[0m\n\u001b[0;32m     42\u001b[0m         \u001b[0mmoves\u001b[0m \u001b[1;33m=\u001b[0m \u001b[0mself\u001b[0m\u001b[1;33m.\u001b[0m\u001b[0mget_possible_moves\u001b[0m\u001b[1;33m(\u001b[0m\u001b[0mboard\u001b[0m\u001b[1;33m)\u001b[0m\u001b[1;33m\u001b[0m\u001b[1;33m\u001b[0m\u001b[0m\n\u001b[0;32m     43\u001b[0m         \u001b[0mnew_boards\u001b[0m \u001b[1;33m=\u001b[0m \u001b[1;33m[\u001b[0m\u001b[0mboard\u001b[0m\u001b[1;33m.\u001b[0m\u001b[0mmake_move\u001b[0m\u001b[1;33m(\u001b[0m\u001b[0mmove\u001b[0m\u001b[1;33m)\u001b[0m \u001b[1;32mfor\u001b[0m \u001b[0mmove\u001b[0m \u001b[1;32min\u001b[0m \u001b[0mmoves\u001b[0m\u001b[1;33m]\u001b[0m\u001b[1;33m\u001b[0m\u001b[1;33m\u001b[0m\u001b[0m\n\u001b[1;32m---> 44\u001b[1;33m         \u001b[0mnew_boards\u001b[0m \u001b[1;33m=\u001b[0m \u001b[0msorted\u001b[0m\u001b[1;33m(\u001b[0m\u001b[0mnew_boards\u001b[0m\u001b[1;33m,\u001b[0m \u001b[0mkey\u001b[0m\u001b[1;33m=\u001b[0m\u001b[1;32mlambda\u001b[0m \u001b[0mb\u001b[0m\u001b[1;33m:\u001b[0m \u001b[1;33m-\u001b[0m\u001b[0mself\u001b[0m\u001b[1;33m.\u001b[0m\u001b[0mget_board_score\u001b[0m\u001b[1;33m(\u001b[0m\u001b[0mb\u001b[0m\u001b[1;33m)\u001b[0m\u001b[1;33m)\u001b[0m\u001b[1;33m\u001b[0m\u001b[1;33m\u001b[0m\u001b[0m\n\u001b[0m\u001b[0;32m     45\u001b[0m \u001b[1;33m\u001b[0m\u001b[0m\n\u001b[0;32m     46\u001b[0m         \u001b[0mbest_score\u001b[0m \u001b[1;33m=\u001b[0m \u001b[0minf\u001b[0m \u001b[1;32mif\u001b[0m \u001b[1;32mnot\u001b[0m \u001b[0mmy_turn\u001b[0m \u001b[1;32melse\u001b[0m \u001b[1;33m-\u001b[0m\u001b[0minf\u001b[0m\u001b[1;33m\u001b[0m\u001b[1;33m\u001b[0m\u001b[0m\n",
      "\u001b[1;32m~\\Documents\\GitHub\\AI-Draughts\\Bot.py\u001b[0m in \u001b[0;36mget_board_score\u001b[1;34m(self, board)\u001b[0m\n\u001b[0;32m     66\u001b[0m         \u001b[1;32mif\u001b[0m \u001b[0mboard\u001b[0m\u001b[1;33m.\u001b[0m\u001b[0mwhite_lost\u001b[0m\u001b[1;33m(\u001b[0m\u001b[1;33m)\u001b[0m\u001b[1;33m:\u001b[0m\u001b[1;33m\u001b[0m\u001b[1;33m\u001b[0m\u001b[0m\n\u001b[0;32m     67\u001b[0m             \u001b[1;32mreturn\u001b[0m \u001b[1;33m-\u001b[0m\u001b[0minf\u001b[0m\u001b[1;33m\u001b[0m\u001b[1;33m\u001b[0m\u001b[0m\n\u001b[1;32m---> 68\u001b[1;33m         \u001b[1;32mreturn\u001b[0m \u001b[0mself\u001b[0m\u001b[1;33m.\u001b[0m\u001b[0mget_white_score\u001b[0m\u001b[1;33m(\u001b[0m\u001b[0mboard\u001b[0m\u001b[1;33m)\u001b[0m \u001b[1;33m-\u001b[0m \u001b[0mself\u001b[0m\u001b[1;33m.\u001b[0m\u001b[0mget_white_score\u001b[0m\u001b[1;33m(\u001b[0m\u001b[0mboard\u001b[0m\u001b[1;33m.\u001b[0m\u001b[0mrevert\u001b[0m\u001b[1;33m(\u001b[0m\u001b[1;33m)\u001b[0m\u001b[1;33m)\u001b[0m\u001b[1;33m\u001b[0m\u001b[1;33m\u001b[0m\u001b[0m\n\u001b[0m\u001b[0;32m     69\u001b[0m \u001b[1;33m\u001b[0m\u001b[0m\n\u001b[0;32m     70\u001b[0m     \u001b[1;32mdef\u001b[0m \u001b[0mget_white_score\u001b[0m\u001b[1;33m(\u001b[0m\u001b[0mself\u001b[0m\u001b[1;33m,\u001b[0m \u001b[0mboard\u001b[0m\u001b[1;33m:\u001b[0m \u001b[0mBoard\u001b[0m\u001b[1;33m)\u001b[0m\u001b[1;33m:\u001b[0m\u001b[1;33m\u001b[0m\u001b[1;33m\u001b[0m\u001b[0m\n",
      "\u001b[1;32m~\\Documents\\GitHub\\AI-Draughts\\Bot.py\u001b[0m in \u001b[0;36mget_white_score\u001b[1;34m(self, board)\u001b[0m\n\u001b[0;32m     73\u001b[0m             \u001b[1;32mif\u001b[0m \u001b[1;32mnot\u001b[0m \u001b[0mpiece\u001b[0m\u001b[1;33m.\u001b[0m\u001b[0mking\u001b[0m\u001b[1;33m:\u001b[0m\u001b[1;33m\u001b[0m\u001b[1;33m\u001b[0m\u001b[0m\n\u001b[0;32m     74\u001b[0m                 \u001b[0mscore\u001b[0m \u001b[1;33m+=\u001b[0m \u001b[1;33m(\u001b[0m\u001b[0mpiece\u001b[0m\u001b[1;33m.\u001b[0m\u001b[0mposition\u001b[0m\u001b[1;33m(\u001b[0m\u001b[1;33m)\u001b[0m\u001b[1;33m.\u001b[0m\u001b[0my\u001b[0m \u001b[1;33m/\u001b[0m \u001b[1;36m9.0\u001b[0m\u001b[1;33m)\u001b[0m \u001b[1;33m*\u001b[0m \u001b[1;36m0.2\u001b[0m\u001b[1;33m\u001b[0m\u001b[1;33m\u001b[0m\u001b[0m\n\u001b[1;32m---> 75\u001b[1;33m             \u001b[0mscore\u001b[0m \u001b[1;33m+=\u001b[0m \u001b[1;36m3\u001b[0m \u001b[1;32mif\u001b[0m \u001b[0mpiece\u001b[0m\u001b[1;33m.\u001b[0m\u001b[0mking\u001b[0m \u001b[1;32melse\u001b[0m \u001b[1;36m1\u001b[0m\u001b[1;33m\u001b[0m\u001b[1;33m\u001b[0m\u001b[0m\n\u001b[0m\u001b[0;32m     76\u001b[0m \u001b[1;33m\u001b[0m\u001b[0m\n\u001b[0;32m     77\u001b[0m         \u001b[1;32mreturn\u001b[0m \u001b[0mscore\u001b[0m\u001b[1;33m\u001b[0m\u001b[1;33m\u001b[0m\u001b[0m\n",
      "\u001b[1;31mKeyboardInterrupt\u001b[0m: "
     ]
    }
   ],
   "source": [
    "b1 = Bot()\n",
    "b2 = Bot()\n",
    "game = Game(b1, b2)\n",
    "game.play_bots(True)"
   ]
  },
  {
   "cell_type": "code",
   "execution_count": 6,
   "id": "d106d665",
   "metadata": {},
   "outputs": [
    {
     "data": {
      "image/png": "[encoded data removed]",
      "text/plain": [
       "<PIL.Image.Image image mode=RGB size=400x400 at 0x21BCE978B20>"
      ]
     },
     "metadata": {},
     "output_type": "display_data"
    },
    {
     "name": "stdout",
     "output_type": "stream",
     "text": [
      "WHITE WINS\n"
     ]
    },
    {
     "data": {
      "image/png": "[encoded data removed]",
      "text/plain": [
       "<PIL.Image.Image image mode=RGB size=400x400 at 0x21BCE978EE0>"
      ]
     },
     "metadata": {},
     "output_type": "display_data"
    },
    {
     "data": {
      "text/plain": [
       "{'moves': [[{'y': 2, 'x': 0}, {'y': 3, 'x': 1}],\n",
       "  [{'y': 2, 'x': 8}, {'y': 3, 'x': 9}],\n",
       "  [{'y': 3, 'x': 1}, {'y': 4, 'x': 2}],\n",
       "  [{'y': 3, 'x': 9}, {'y': 4, 'x': 8}],\n",
       "  [{'y': 4, 'x': 2}, {'y': 6, 'x': 0}],\n",
       "  [{'y': 1, 'x': 7}, {'y': 2, 'x': 8}],\n",
       "  [{'y': 6, 'x': 0}, {'y': 8, 'x': 2}],\n",
       "  [{'y': 0, 'x': 6}, {'y': 2, 'x': 8}],\n",
       "  [{'y': 1, 'x': 1}, {'y': 2, 'x': 0}],\n",
       "  [{'y': 2, 'x': 6}, {'y': 3, 'x': 7}],\n",
       "  [{'y': 0, 'x': 0}, {'y': 1, 'x': 1}],\n",
       "  [{'y': 3, 'x': 7}, {'y': 4, 'x': 8}],\n",
       "  [{'y': 2, 'x': 0}, {'y': 3, 'x': 1}],\n",
       "  [{'y': 4, 'x': 8}, {'y': 5, 'x': 7}],\n",
       "  [{'y': 3, 'x': 1}, {'y': 5, 'x': 3}],\n",
       "  [{'y': 2, 'x': 4}, {'y': 3, 'x': 5}],\n",
       "  [{'y': 5, 'x': 3}, {'y': 7, 'x': 5}, {'y': 9, 'x': 3}],\n",
       "  [{'y': 2, 'x': 2}, {'y': 3, 'x': 3}],\n",
       "  [{'y': 9, 'x': 3}, {'y': 6, 'x': 0}],\n",
       "  [{'y': 0, 'x': 8}, {'y': 1, 'x': 7}],\n",
       "  [{'y': 6, 'x': 0}, {'y': 9, 'x': 3}],\n",
       "  [{'y': 3, 'x': 3}, {'y': 4, 'x': 2}],\n",
       "  [{'y': 9, 'x': 3}, {'y': 4, 'x': 8}],\n",
       "  [{'y': 0, 'x': 4}, {'y': 1, 'x': 5}],\n",
       "  [{'y': 4, 'x': 8}, {'y': 9, 'x': 3}],\n",
       "  [{'y': 1, 'x': 9}, {'y': 2, 'x': 8}],\n",
       "  [{'y': 9, 'x': 3}, {'y': 6, 'x': 0}],\n",
       "  [{'y': 2, 'x': 0}, {'y': 3, 'x': 1}],\n",
       "  [{'y': 1, 'x': 1}, {'y': 2, 'x': 0}],\n",
       "  [{'y': 3, 'x': 1}, {'y': 4, 'x': 2}],\n",
       "  [{'y': 2, 'x': 6}, {'y': 3, 'x': 7}],\n",
       "  [{'y': 4, 'x': 2}, {'y': 5, 'x': 3}],\n",
       "  [{'y': 3, 'x': 7}, {'y': 5, 'x': 5}],\n",
       "  [{'y': 1, 'x': 1}, {'y': 2, 'x': 0}],\n",
       "  [{'y': 5, 'x': 5}, {'y': 6, 'x': 6}],\n",
       "  [{'y': 1, 'x': 3}, {'y': 2, 'x': 4}],\n",
       "  [{'y': 6, 'x': 6}, {'y': 8, 'x': 4}],\n",
       "  [{'y': 2, 'x': 0}, {'y': 3, 'x': 1}],\n",
       "  [{'y': 2, 'x': 0}, {'y': 3, 'x': 1}],\n",
       "  [{'y': 3, 'x': 1}, {'y': 4, 'x': 2}],\n",
       "  [{'y': 8, 'x': 4}, {'y': 9, 'x': 3}],\n",
       "  [{'y': 4, 'x': 2}, {'y': 5, 'x': 1}],\n",
       "  [{'y': 9, 'x': 3}, {'y': 3, 'x': 9}],\n",
       "  [{'y': 0, 'x': 2}, {'y': 1, 'x': 3}],\n",
       "  [{'y': 6, 'x': 0}, {'y': 3, 'x': 3}],\n",
       "  [{'y': 1, 'x': 3}, {'y': 2, 'x': 4}],\n",
       "  [{'y': 3, 'x': 9}, {'y': 8, 'x': 4}],\n",
       "  [{'y': 0, 'x': 0}, {'y': 1, 'x': 1}],\n",
       "  [{'y': 3, 'x': 3}, {'y': 9, 'x': 9}]],\n",
       " 'winner': 'white'}"
      ]
     },
     "execution_count": 6,
     "metadata": {},
     "output_type": "execute_result"
    }
   ],
   "source": [
    "\n",
    "from Game import *\n",
    "\n",
    "# min max bot\n",
    "class CringeBot():\n",
    "\n",
    "    def eval(self, board):\n",
    "\n",
    "        number_of_whites = (len(board.whites) - len(board.blacks)) / (len(board.whites) + len(board.blacks))\n",
    "        number_of_kings = 0\n",
    "        for white in board.whites:\n",
    "            if white.king:\n",
    "                number_of_kings += 1\n",
    "        for black in board.blacks:\n",
    "            if black.king:\n",
    "                number_of_kings -= 1\n",
    "\n",
    "        value = number_of_whites + number_of_kings\n",
    "        return value\n",
    "\n",
    "    def tup(self, pos):\n",
    "        return (pos.y, pos.x)\n",
    "\n",
    "    def captures(self, board, move_so_far):\n",
    "        already_captured = set()\n",
    "\n",
    "        for i in range(len(move_so_far) - 1):\n",
    "            y = (move_so_far[i].y + move_so_far[i + 1].y) // 2\n",
    "            x = (move_so_far[i].x + move_so_far[i + 1].x) // 2\n",
    "            already_captured.add((y, x))\n",
    "\n",
    "        pos = move_so_far[-1]\n",
    "        returning = []\n",
    "\n",
    "        for i in [-1,1]:\n",
    "            for j in [-1,1]:\n",
    "                if (y + i, x + j) in already_captured:\n",
    "                    continue\n",
    "\n",
    "                if board.isBlack(pos.add(i, j)):\n",
    "                    if board.isEmpty(pos.add(2*i, 2*j)):\n",
    "                        new_move_so_far = [i for i in move_so_far] + [pos.add(2*i, 2*j)]\n",
    "                        for q in self.captures(board, new_move_so_far):\n",
    "                            returning.append(q)\n",
    "\n",
    "        return returning\n",
    "\n",
    "    def king_captures(self, board, pos, already_captured, move_so_far):\n",
    "        moves = []\n",
    "        full = True\n",
    "        y, x = pos.y, pos.x\n",
    "        for yd, xd in [(1, 1), (1, -1), (-1, 1), (-1, -1)]:\n",
    "            for i in range(1, 10):\n",
    "                if not board.on_board(Position(y + yd * i, x + xd * i)): break;\n",
    "\n",
    "                if board.isBlack(Position(y + yd * i, x + xd * i)):\n",
    "                    if board.isEmpty(Position(y + yd * (i + 1), x + xd * (i + 1))):\n",
    "                        if (y + yd * i, x + xd * i) in already_captured:\n",
    "                            break;\n",
    "                        full = True\n",
    "                        new_already_captured = set()\n",
    "                        for c in already_captured:\n",
    "                            new_already_captured.add(c)\n",
    "                        new_move_so_far = [q for q in move_so_far] + [Position(y + yd * (i + 1), x + xd * (i + 1))]\n",
    "                        new_already_captured.add((y + yd * i, x + xd * i))\n",
    "                        new_moves = self.king_captures(board,\n",
    "                                                    Position(y + yd * (i + 1), x + xd * (i + 1)),\n",
    "                                                    new_already_captured,\n",
    "                                                    new_move_so_far)\n",
    "                        for move in new_moves:\n",
    "                            moves.append(move)\n",
    "        if full:\n",
    "            if len(move_so_far) > 1:\n",
    "                moves.append(move_so_far)\n",
    "        return moves\n",
    "\n",
    "\n",
    "    def generate_moves(self, board):\n",
    "        moves = []\n",
    "        if board.capture_possible():\n",
    "            for white in board.whites:\n",
    "                if not white.king:\n",
    "                    for i in [-1, 1]:\n",
    "                        if board.isBlack(white.position().add(1, i)) and board.isEmpty(white.position().add(2, 2*i)):\n",
    "                            moves += [[white.position(), white.position().add(2, 2*i)]]\n",
    "\n",
    "                else:\n",
    "                    for i, j in [[1,1],[1,-1],[-1,1],[-1,-1]]:\n",
    "                        multiple = 1\n",
    "                        while board.isEmpty(white.position().add(i*multiple, j*multiple)):\n",
    "                            multiple += 1\n",
    "\n",
    "                        if board.isBlack(white.position().add(i*multiple, j*multiple)) and board.isEmpty(white.position().add(i*(multiple+1), j*(multiple+1))):\n",
    "                            moves += [[white.position(), white.position().add(i*(multiple+1), j*(multiple+1))]]\n",
    "        else:\n",
    "            for white in board.whites:\n",
    "                if not white.king:\n",
    "                    for add in [(1,1), (1,-1)]:\n",
    "                        if board.isEmpty(white.position().add(add[0], add[1])):\n",
    "                            moves.append([white.position(), white.position().add(add[0], add[1])])\n",
    "                else:\n",
    "                    for i,j in [(1,1),(1,-1),(-1,1),(-1,-1)]:\n",
    "                        for multiple in range(10):\n",
    "                            if board.isEmpty(white.position().add(i,j)):\n",
    "                                moves.append([white.position(), white.position().add(i,j)])\n",
    "                            else:\n",
    "                                break\n",
    "        return moves\n",
    "\n",
    "\n",
    "    # def generate_moves(self, board):\n",
    "    #     moves = []\n",
    "    #     if board.capture_possible():\n",
    "    #         for white in board.whites:\n",
    "    #             if not white.king:\n",
    "    #                 for i in [-1, 1]:\n",
    "    #                     if board.isBlack(white.position().add(1, i)):\n",
    "    #                         if board.isEmpty(white.position().add(2, 2*i)):\n",
    "    #                             capture = [white.position(), white.position().add(2, 2*i)]\n",
    "    #                             moves += [capture]\n",
    "    #                             moves += self.captures(board, capture)\n",
    "    #             # else:\n",
    "    #             #     moves += self.king_captures(board, white.position(), set(), [white.position()])\n",
    "    #         for move in moves:\n",
    "    #             if not board.isBlack(move[-2].middle(move[-1])):\n",
    "    #                 print(\"!!!!!! ereror\")\n",
    "    #                 for p in move:\n",
    "    #                     print(p.y, p.x, end= \" - \")\n",
    "    #                 print()\n",
    "    #\n",
    "    #\n",
    "    #     else:\n",
    "    #         for white in board.whites:\n",
    "    #             for add in [(1,1), (1,-1)]:\n",
    "    #                 if board.isEmpty(white.position().add(add[0], add[1])):\n",
    "    #                     moves.append([white.position(), white.position().add(add[0], add[1])])\n",
    "    #\n",
    "    #     return moves\n",
    "\n",
    "\n",
    "    def min_max(self, board, depth, max_depth, my_turn, best_value):\n",
    "        if depth == max_depth:\n",
    "            if my_turn:\n",
    "                return self.eval(board), None\n",
    "            else:\n",
    "                return -self.eval(board), None\n",
    "        val = -float(\"inf\")\n",
    "        best_move = None\n",
    "\n",
    "        possible_moves = self.generate_moves(board)\n",
    "        for move in possible_moves:\n",
    "            if move == []: continue\n",
    "            new_board = board.make_move(move)\n",
    "            v, bm = self.min_max(new_board, depth + 1, max_depth, not my_turn, val)\n",
    "            if v > val:\n",
    "                val = v\n",
    "                best_move = move\n",
    "\n",
    "            if not my_turn and -val < best_value:\n",
    "                return -val, best_move\n",
    "\n",
    "        if my_turn:\n",
    "            return val, best_move\n",
    "        else:\n",
    "            return -val, best_move\n",
    "\n",
    "    def make_move(self, board):\n",
    "        val, best_move = self.min_max(board, 0, 3, True, 0)\n",
    "        for p in best_move:\n",
    "            print(p.y, p.x, end= \" - \")\n",
    "        print(\"Cringe Move\")\n",
    "        return best_move\n",
    "\n",
    "bot = Bot()\n",
    "bot2 = CringeBot()\n",
    "game = Game(bot, bot2)\n",
    "game.play_bots(True)\n"
   ]
  },
  {
   "cell_type": "code",
   "execution_count": 4,
   "id": "abandoned-robin",
   "metadata": {
    "scrolled": true
   },
   "outputs": [
    {
     "data": {
      "image/png": "[encoded data removed]",
      "text/plain": [
       "<PIL.Image.Image image mode=RGB size=400x400 at 0x23055499190>"
      ]
     },
     "metadata": {},
     "output_type": "display_data"
    },
    {
     "ename": "KeyboardInterrupt",
     "evalue": "Interrupted by user",
     "output_type": "error",
     "traceback": [
      "\u001b[1;31m---------------------------------------------------------------------------\u001b[0m",
      "\u001b[1;31mKeyboardInterrupt\u001b[0m                         Traceback (most recent call last)",
      "\u001b[1;32mC:\\Users\\ALEXAN~1.WAH\\AppData\\Local\\Temp/ipykernel_20296/2011438302.py\u001b[0m in \u001b[0;36m<module>\u001b[1;34m\u001b[0m\n\u001b[0;32m      2\u001b[0m \u001b[0mbot\u001b[0m \u001b[1;33m=\u001b[0m \u001b[0mBot\u001b[0m\u001b[1;33m(\u001b[0m\u001b[1;33m)\u001b[0m\u001b[1;33m\u001b[0m\u001b[1;33m\u001b[0m\u001b[0m\n\u001b[0;32m      3\u001b[0m \u001b[0mgame\u001b[0m \u001b[1;33m=\u001b[0m \u001b[0mGame\u001b[0m\u001b[1;33m(\u001b[0m\u001b[0mbot\u001b[0m\u001b[1;33m,\u001b[0m \u001b[1;32mNone\u001b[0m\u001b[1;33m)\u001b[0m\u001b[1;33m\u001b[0m\u001b[1;33m\u001b[0m\u001b[0m\n\u001b[1;32m----> 4\u001b[1;33m \u001b[0mgame\u001b[0m\u001b[1;33m.\u001b[0m\u001b[0mplay_human\u001b[0m\u001b[1;33m(\u001b[0m\u001b[1;32mFalse\u001b[0m\u001b[1;33m,\u001b[0m \u001b[1;32mTrue\u001b[0m\u001b[1;33m)\u001b[0m\u001b[1;33m\u001b[0m\u001b[1;33m\u001b[0m\u001b[0m\n\u001b[0m\u001b[0;32m      5\u001b[0m \u001b[1;33m\u001b[0m\u001b[0m\n\u001b[0;32m      6\u001b[0m \u001b[1;31m# When you are asked to specify your move in a textfield, specify it similarly as in a bot.\u001b[0m\u001b[1;33m\u001b[0m\u001b[1;33m\u001b[0m\u001b[0m\n",
      "\u001b[1;32m~\\Documents\\GitHub\\AI-Draughts\\Game.py\u001b[0m in \u001b[0;36mplay_human\u001b[1;34m(self, bot_white, draw_board)\u001b[0m\n\u001b[0;32m    124\u001b[0m \u001b[1;33m\u001b[0m\u001b[0m\n\u001b[0;32m    125\u001b[0m         \u001b[1;32mwhile\u001b[0m \u001b[0mself\u001b[0m\u001b[1;33m.\u001b[0m\u001b[0mcontinue_game\u001b[0m\u001b[1;33m:\u001b[0m\u001b[1;33m\u001b[0m\u001b[1;33m\u001b[0m\u001b[0m\n\u001b[1;32m--> 126\u001b[1;33m             \u001b[0mself\u001b[0m\u001b[1;33m.\u001b[0m\u001b[0mhuman_move\u001b[0m\u001b[1;33m(\u001b[0m\u001b[1;32mnot\u001b[0m \u001b[0mbot_white\u001b[0m\u001b[1;33m,\u001b[0m \u001b[0mdraw_board\u001b[0m\u001b[1;33m)\u001b[0m\u001b[1;33m\u001b[0m\u001b[1;33m\u001b[0m\u001b[0m\n\u001b[0m\u001b[0;32m    127\u001b[0m             \u001b[1;32mif\u001b[0m \u001b[1;32mnot\u001b[0m \u001b[0mself\u001b[0m\u001b[1;33m.\u001b[0m\u001b[0mcontinue_game\u001b[0m\u001b[1;33m:\u001b[0m\u001b[1;33m\u001b[0m\u001b[1;33m\u001b[0m\u001b[0m\n\u001b[0;32m    128\u001b[0m                 \u001b[1;32mbreak\u001b[0m\u001b[1;33m\u001b[0m\u001b[1;33m\u001b[0m\u001b[0m\n",
      "\u001b[1;32m~\\Documents\\GitHub\\AI-Draughts\\Game.py\u001b[0m in \u001b[0;36mhuman_move\u001b[1;34m(self, is_white, draw_board)\u001b[0m\n\u001b[0;32m     74\u001b[0m         \u001b[0mcorrect_move_entered\u001b[0m \u001b[1;33m=\u001b[0m \u001b[1;32mFalse\u001b[0m\u001b[1;33m\u001b[0m\u001b[1;33m\u001b[0m\u001b[0m\n\u001b[0;32m     75\u001b[0m         \u001b[1;32mwhile\u001b[0m \u001b[1;32mnot\u001b[0m \u001b[0mcorrect_move_entered\u001b[0m\u001b[1;33m:\u001b[0m\u001b[1;33m\u001b[0m\u001b[1;33m\u001b[0m\u001b[0m\n\u001b[1;32m---> 76\u001b[1;33m             \u001b[0mpre_move\u001b[0m \u001b[1;33m=\u001b[0m \u001b[0minput\u001b[0m\u001b[1;33m(\u001b[0m\u001b[1;34m\"Your move\"\u001b[0m\u001b[1;33m)\u001b[0m\u001b[1;33m.\u001b[0m\u001b[0msplit\u001b[0m\u001b[1;33m(\u001b[0m\u001b[1;33m)\u001b[0m\u001b[1;33m\u001b[0m\u001b[1;33m\u001b[0m\u001b[0m\n\u001b[0m\u001b[0;32m     77\u001b[0m             \u001b[0mmove\u001b[0m \u001b[1;33m=\u001b[0m \u001b[1;33m[\u001b[0m\u001b[1;33m]\u001b[0m\u001b[1;33m\u001b[0m\u001b[1;33m\u001b[0m\u001b[0m\n\u001b[0;32m     78\u001b[0m             \u001b[1;32mfor\u001b[0m \u001b[0mi\u001b[0m \u001b[1;32min\u001b[0m \u001b[0mrange\u001b[0m\u001b[1;33m(\u001b[0m\u001b[0mint\u001b[0m\u001b[1;33m(\u001b[0m\u001b[0mlen\u001b[0m\u001b[1;33m(\u001b[0m\u001b[0mpre_move\u001b[0m\u001b[1;33m)\u001b[0m \u001b[1;33m/\u001b[0m \u001b[1;36m2\u001b[0m\u001b[1;33m)\u001b[0m\u001b[1;33m)\u001b[0m\u001b[1;33m:\u001b[0m\u001b[1;33m\u001b[0m\u001b[1;33m\u001b[0m\u001b[0m\n",
      "\u001b[1;32mc:\\users\\alexander.wahlsten\\documents\\github\\ai-draughts\\venv\\lib\\site-packages\\ipykernel\\kernelbase.py\u001b[0m in \u001b[0;36mraw_input\u001b[1;34m(self, prompt)\u001b[0m\n\u001b[0;32m   1004\u001b[0m                 \u001b[1;34m\"raw_input was called, but this frontend does not support input requests.\"\u001b[0m\u001b[1;33m\u001b[0m\u001b[1;33m\u001b[0m\u001b[0m\n\u001b[0;32m   1005\u001b[0m             )\n\u001b[1;32m-> 1006\u001b[1;33m         return self._input_request(\n\u001b[0m\u001b[0;32m   1007\u001b[0m             \u001b[0mstr\u001b[0m\u001b[1;33m(\u001b[0m\u001b[0mprompt\u001b[0m\u001b[1;33m)\u001b[0m\u001b[1;33m,\u001b[0m\u001b[1;33m\u001b[0m\u001b[1;33m\u001b[0m\u001b[0m\n\u001b[0;32m   1008\u001b[0m             \u001b[0mself\u001b[0m\u001b[1;33m.\u001b[0m\u001b[0m_parent_ident\u001b[0m\u001b[1;33m[\u001b[0m\u001b[1;34m\"shell\"\u001b[0m\u001b[1;33m]\u001b[0m\u001b[1;33m,\u001b[0m\u001b[1;33m\u001b[0m\u001b[1;33m\u001b[0m\u001b[0m\n",
      "\u001b[1;32mc:\\users\\alexander.wahlsten\\documents\\github\\ai-draughts\\venv\\lib\\site-packages\\ipykernel\\kernelbase.py\u001b[0m in \u001b[0;36m_input_request\u001b[1;34m(self, prompt, ident, parent, password)\u001b[0m\n\u001b[0;32m   1049\u001b[0m             \u001b[1;32mexcept\u001b[0m \u001b[0mKeyboardInterrupt\u001b[0m\u001b[1;33m:\u001b[0m\u001b[1;33m\u001b[0m\u001b[1;33m\u001b[0m\u001b[0m\n\u001b[0;32m   1050\u001b[0m                 \u001b[1;31m# re-raise KeyboardInterrupt, to truncate traceback\u001b[0m\u001b[1;33m\u001b[0m\u001b[1;33m\u001b[0m\u001b[0m\n\u001b[1;32m-> 1051\u001b[1;33m                 \u001b[1;32mraise\u001b[0m \u001b[0mKeyboardInterrupt\u001b[0m\u001b[1;33m(\u001b[0m\u001b[1;34m\"Interrupted by user\"\u001b[0m\u001b[1;33m)\u001b[0m \u001b[1;32mfrom\u001b[0m \u001b[1;32mNone\u001b[0m\u001b[1;33m\u001b[0m\u001b[1;33m\u001b[0m\u001b[0m\n\u001b[0m\u001b[0;32m   1052\u001b[0m             \u001b[1;32mexcept\u001b[0m \u001b[0mException\u001b[0m\u001b[1;33m:\u001b[0m\u001b[1;33m\u001b[0m\u001b[1;33m\u001b[0m\u001b[0m\n\u001b[0;32m   1053\u001b[0m                 \u001b[0mself\u001b[0m\u001b[1;33m.\u001b[0m\u001b[0mlog\u001b[0m\u001b[1;33m.\u001b[0m\u001b[0mwarning\u001b[0m\u001b[1;33m(\u001b[0m\u001b[1;34m\"Invalid Message:\"\u001b[0m\u001b[1;33m,\u001b[0m \u001b[0mexc_info\u001b[0m\u001b[1;33m=\u001b[0m\u001b[1;32mTrue\u001b[0m\u001b[1;33m)\u001b[0m\u001b[1;33m\u001b[0m\u001b[1;33m\u001b[0m\u001b[0m\n",
      "\u001b[1;31mKeyboardInterrupt\u001b[0m: Interrupted by user"
     ]
    }
   ],
   "source": [
    "# Suppose you have a class SampleBot and want to play againt it. Run:\n",
    "bot = Bot()\n",
    "game = Game(bot, None)\n",
    "game.play_human(False, True)\n",
    "\n",
    "# When you are asked to specify your move in a textfield, specify it similarly as in a bot.\n",
    "# However, don't wrap the locations into Positions class or a list - just list the numbers.\n",
    "# For instance, to move from position (2, 0) to position (3, 1) just type: 2 0 3 1\n",
    "# Also, remember that we firstly specify the row number and then the column number\n",
    "# and that the upper-left field is (0, 0)"
   ]
  },
  {
   "cell_type": "code",
   "execution_count": null,
   "id": "09b22e13",
   "metadata": {},
   "outputs": [],
   "source": [
    "3 1 4 "
   ]
  }
 ],
 "metadata": {
  "kernelspec": {
   "display_name": "Python 3 (ipykernel)",
   "language": "python",
   "name": "python3"
  },
  "language_info": {
   "codemirror_mode": {
    "name": "ipython",
    "version": 3
   },
   "file_extension": ".py",
   "mimetype": "text/x-python",
   "name": "python",
   "nbconvert_exporter": "python",
   "pygments_lexer": "ipython3",
   "version": "3.9.7"
  }
 },
 "nbformat": 4,
 "nbformat_minor": 5
}
